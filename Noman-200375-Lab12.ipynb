{
 "cells": [
  {
   "cell_type": "code",
   "execution_count": 1,
   "id": "ca57c8ac",
   "metadata": {},
   "outputs": [],
   "source": [
    "import numpy as np"
   ]
  },
  {
   "cell_type": "code",
   "execution_count": 2,
   "id": "41311eb0",
   "metadata": {},
   "outputs": [
    {
     "name": "stdout",
     "output_type": "stream",
     "text": [
      "Array\n",
      "[0 1 2 3 4 5 6 7 8 9]\n",
      "After swapping\n",
      "[9 1 2 3 4 5 6 7 8 0]\n"
     ]
    }
   ],
   "source": [
    "# Task 1\n",
    "arr = np.arange(10)\n",
    "print(\"Array\")\n",
    "print(arr)\n",
    "\n",
    "arr[0],arr[9] = arr[9],arr[0]\n",
    "print(\"After swapping\")\n",
    "print(arr)"
   ]
  },
  {
   "cell_type": "code",
   "execution_count": 3,
   "id": "86a155e4",
   "metadata": {},
   "outputs": [
    {
     "name": "stdout",
     "output_type": "stream",
     "text": [
      "Enter value : 1\n",
      "Enter value : 2\n",
      "Enter value : 3\n",
      "Enter value : 4\n",
      "Enter value : 5\n",
      "Enter value : 6\n",
      "Enter value : 7\n",
      "Enter value : 8\n",
      "Enter value : 9\n",
      "Enter value : 10\n",
      " Array filled by taking user's input\n",
      "[ 1  2  3  4  5  6  7  8  9 10]\n",
      "Splitted arrays\n",
      "[array([1, 2, 3, 4, 5]), array([ 6,  7,  8,  9, 10])]\n"
     ]
    }
   ],
   "source": [
    "#Task 2\n",
    "arr = np.empty(10, dtype = int)\n",
    "for i in range(10):\n",
    "    n = int(input(\"Enter value : \"))\n",
    "    arr[i] = n\n",
    "new = np.array_split(arr,2)\n",
    "print(\" Array filled by taking user's input\")    \n",
    "print(arr)\n",
    "\n",
    "print(\"Splitted arrays\")\n",
    "print(new)\n",
    "\n",
    "\n",
    "    \n",
    "    "
   ]
  },
  {
   "cell_type": "code",
   "execution_count": 4,
   "id": "0d71ff49",
   "metadata": {},
   "outputs": [
    {
     "name": "stdout",
     "output_type": "stream",
     "text": [
      "Enter number0\n",
      " \n",
      "Enter number0\n",
      " \n",
      "Enter number-5\n",
      " \n",
      "Enter number2\n",
      "Enter number5\n",
      "Enter number7\n",
      "Enter number6\n",
      "Enter number4\n",
      "Enter number3\n",
      "Enter number10\n",
      "Number of Even Numbers :  6\n",
      "Number of Odd Numbers :  4\n",
      "Number of Positive Numbers :  7\n",
      "Number of Negative Numbers :  1\n",
      "Number of Zero Numbers :  2\n",
      "Number of prime Numbers :  4\n",
      "Number of composite Numbers :  3\n"
     ]
    }
   ],
   "source": [
    "# Task 3\n",
    "odd = 0\n",
    "even = 0\n",
    "pos = 0\n",
    "neg = 0\n",
    "zeros = 0\n",
    "prime = 0\n",
    "com = 0\n",
    "\n",
    "for i in range(10):\n",
    "    n = int(input(\"Enter number\"))\n",
    "    if n%2 == 0:\n",
    "        even = even + 1\n",
    "    if n%2 == 1:\n",
    "        odd = odd + 1\n",
    "    if n > 0:\n",
    "        pos = pos + 1\n",
    "    if n < 0:\n",
    "        neg = neg + 1\n",
    "    if n == 0:\n",
    "        zeros = zeros + 1\n",
    "    if n > 1:\n",
    "        for i in range(2,n):\n",
    "            if n%i == 0:\n",
    "                com = com + 1\n",
    "                break\n",
    "        else:\n",
    "            prime = prime + 1\n",
    "    else:\n",
    "        print(\" \")\n",
    "        \n",
    "print(\"Number of Even Numbers : \",even)\n",
    "print(\"Number of Odd Numbers : \",odd)\n",
    "print(\"Number of Positive Numbers : \",pos)\n",
    "print(\"Number of Negative Numbers : \",neg)\n",
    "print(\"Number of Zero Numbers : \",zeros)\n",
    "print(\"Number of prime Numbers : \",prime)\n",
    "print(\"Number of composite Numbers : \",com)"
   ]
  },
  {
   "cell_type": "code",
   "execution_count": 5,
   "id": "91ec3f91",
   "metadata": {},
   "outputs": [
    {
     "name": "stdout",
     "output_type": "stream",
     "text": [
      "[0 3 6 7 9]\n"
     ]
    }
   ],
   "source": [
    "# Task 4\n",
    "\n",
    "arr = np.array([0,3,6,7,9])     #1=dimensional array\n",
    "print(arr)"
   ]
  },
  {
   "cell_type": "code",
   "execution_count": 6,
   "id": "ce336fa2",
   "metadata": {},
   "outputs": [
    {
     "name": "stdout",
     "output_type": "stream",
     "text": [
      "[[9 8 7 6]\n",
      " [3 2 1 0]]\n"
     ]
    },
    {
     "data": {
      "text/plain": [
       "(2, 4)"
      ]
     },
     "execution_count": 6,
     "metadata": {},
     "output_type": "execute_result"
    }
   ],
   "source": [
    "arr = np.array([[9,8,7,6],[3,2,1,0]])    #2-dimensional array\n",
    "print(arr)\n",
    "arr.shape"
   ]
  },
  {
   "cell_type": "code",
   "execution_count": 7,
   "id": "37c6bf01",
   "metadata": {},
   "outputs": [
    {
     "name": "stdout",
     "output_type": "stream",
     "text": [
      "[ 0  2  4  6  8 10 12 14 16 18]\n"
     ]
    },
    {
     "data": {
      "text/plain": [
       "(10,)"
      ]
     },
     "execution_count": 7,
     "metadata": {},
     "output_type": "execute_result"
    }
   ],
   "source": [
    "arr = np.arange(0,20,2)\n",
    "print(arr)\n",
    "arr.shape             # shape incorrect"
   ]
  },
  {
   "cell_type": "code",
   "execution_count": 8,
   "id": "56252ad5",
   "metadata": {},
   "outputs": [
    {
     "data": {
      "text/plain": [
       "(10, 1)"
      ]
     },
     "execution_count": 8,
     "metadata": {},
     "output_type": "execute_result"
    }
   ],
   "source": [
    "# Reshaping\n",
    "arr = arr.reshape(arr.shape[0],1)   \n",
    "arr.shape"
   ]
  },
  {
   "cell_type": "code",
   "execution_count": 9,
   "id": "f564ea35",
   "metadata": {},
   "outputs": [
    {
     "name": "stdout",
     "output_type": "stream",
     "text": [
      "[0.         0.27272727 0.54545455 0.81818182 1.09090909 1.36363636\n",
      " 1.63636364 1.90909091 2.18181818 2.45454545 2.72727273 3.        ]\n"
     ]
    },
    {
     "data": {
      "text/plain": [
       "(12,)"
      ]
     },
     "execution_count": 9,
     "metadata": {},
     "output_type": "execute_result"
    }
   ],
   "source": [
    "arr = np.linspace(0,3,12)    #Add evenly spaced values to the array\n",
    "print(arr)\n",
    "arr.shape"
   ]
  },
  {
   "cell_type": "code",
   "execution_count": 10,
   "id": "b3305378",
   "metadata": {},
   "outputs": [
    {
     "data": {
      "text/plain": [
       "(12, 1)"
      ]
     },
     "execution_count": 10,
     "metadata": {},
     "output_type": "execute_result"
    }
   ],
   "source": [
    "arr = np.linspace(0,3,12).reshape(12,1)    #reshaping\n",
    "arr.shape"
   ]
  },
  {
   "cell_type": "code",
   "execution_count": 11,
   "id": "35359ce2",
   "metadata": {},
   "outputs": [
    {
     "name": "stdout",
     "output_type": "stream",
     "text": [
      "[[0. 0. 0. 0.]\n",
      " [0. 0. 0. 0.]\n",
      " [0. 0. 0. 0.]]\n"
     ]
    },
    {
     "data": {
      "text/plain": [
       "(3, 4)"
      ]
     },
     "execution_count": 11,
     "metadata": {},
     "output_type": "execute_result"
    }
   ],
   "source": [
    "arr = np.zeros((3,4))  # array of zeros  \n",
    "print(arr)\n",
    "arr.shape"
   ]
  },
  {
   "cell_type": "code",
   "execution_count": 12,
   "id": "edecb5b8",
   "metadata": {},
   "outputs": [
    {
     "name": "stdout",
     "output_type": "stream",
     "text": [
      "[[0 0 0 0]\n",
      " [0 0 0 0]\n",
      " [0 0 0 0]]\n"
     ]
    },
    {
     "data": {
      "text/plain": [
       "(3, 4)"
      ]
     },
     "execution_count": 12,
     "metadata": {},
     "output_type": "execute_result"
    }
   ],
   "source": [
    "arr = np.zeros((3,4), dtype = int)    # int type array of zeros\n",
    "print(arr)\n",
    "arr.shape"
   ]
  },
  {
   "cell_type": "code",
   "execution_count": 13,
   "id": "698ce707",
   "metadata": {},
   "outputs": [
    {
     "name": "stdout",
     "output_type": "stream",
     "text": [
      "[[0.99943098 0.50156082 0.99121261]\n",
      " [0.21007027 0.84218474 0.37574587]\n",
      " [0.05937319 0.17084461 0.80823988]]\n"
     ]
    },
    {
     "data": {
      "text/plain": [
       "(3, 3)"
      ]
     },
     "execution_count": 13,
     "metadata": {},
     "output_type": "execute_result"
    }
   ],
   "source": [
    " \n",
    "arr = np.random.random((3,3)) # array of random values\n",
    "print(arr)\n",
    "arr.shape\n"
   ]
  },
  {
   "cell_type": "code",
   "execution_count": 14,
   "id": "9174abf1",
   "metadata": {},
   "outputs": [
    {
     "name": "stdout",
     "output_type": "stream",
     "text": [
      "[[ 0  0]\n",
      " [ 5  0]\n",
      " [10  0]]\n"
     ]
    },
    {
     "data": {
      "text/plain": [
       "(3, 2)"
      ]
     },
     "execution_count": 14,
     "metadata": {},
     "output_type": "execute_result"
    }
   ],
   "source": [
    "\n",
    "arr = np.empty((3,2), dtype = int) # Empty array creation\n",
    "print(arr)\n",
    "arr.shape"
   ]
  },
  {
   "cell_type": "code",
   "execution_count": 15,
   "id": "e8ce54f7",
   "metadata": {},
   "outputs": [
    {
     "data": {
      "text/plain": [
       "5"
      ]
     },
     "execution_count": 15,
     "metadata": {},
     "output_type": "execute_result"
    }
   ],
   "source": [
    "\n",
    "arr = np.array([9,3,6,5,8]) # to get the lenth of an array\n",
    "len(arr)"
   ]
  },
  {
   "cell_type": "code",
   "execution_count": 16,
   "id": "09e0a2d4",
   "metadata": {},
   "outputs": [
    {
     "data": {
      "text/plain": [
       "1"
      ]
     },
     "execution_count": 16,
     "metadata": {},
     "output_type": "execute_result"
    }
   ],
   "source": [
    "arr = np.array([[2,3,6,5]]) # here it len() returns the number of rows of 2d array \n",
    "len(arr)"
   ]
  },
  {
   "cell_type": "code",
   "execution_count": 17,
   "id": "48da6c9d",
   "metadata": {},
   "outputs": [
    {
     "name": "stdout",
     "output_type": "stream",
     "text": [
      "[[0. 0. 0. 0.]\n",
      " [0. 0. 0. 0.]]\n",
      "[[0 0 0 0]\n",
      " [0 0 0 0]]\n"
     ]
    }
   ],
   "source": [
    "arr = np.zeros((2,4)) # array of zeros with float type \n",
    "print(arr)\n",
    "arr = arr.astype(int)    # conversion to int\n",
    "print(arr)"
   ]
  },
  {
   "cell_type": "code",
   "execution_count": 18,
   "id": "0c2f0711",
   "metadata": {},
   "outputs": [
    {
     "name": "stdout",
     "output_type": "stream",
     "text": [
      "[[0 2 3 6]\n",
      " [4 5 6 7]]\n"
     ]
    }
   ],
   "source": [
    "\n",
    "arr = np.array([[0,2,3,6],[4,5,6,7]])\n",
    "arr_2 = np.copy(arr)                    # it creates copy of array\n",
    "print(arr_2)"
   ]
  },
  {
   "cell_type": "code",
   "execution_count": 19,
   "id": "7faf7fd3",
   "metadata": {},
   "outputs": [
    {
     "name": "stdout",
     "output_type": "stream",
     "text": [
      "[1 2 3 4 5 6 7 8]\n"
     ]
    },
    {
     "data": {
      "text/plain": [
       "(8,)"
      ]
     },
     "execution_count": 19,
     "metadata": {},
     "output_type": "execute_result"
    }
   ],
   "source": [
    "arr = np.array([1,2,3,4])\n",
    "arr_2 = np.array([[5,6],[7,8]])\n",
    "arr = np.append(arr,arr_2)            # appending arrays\n",
    "print(arr)\n",
    "arr.shape"
   ]
  },
  {
   "cell_type": "code",
   "execution_count": 20,
   "id": "41b01c41",
   "metadata": {},
   "outputs": [
    {
     "name": "stdout",
     "output_type": "stream",
     "text": [
      "[[1 2 3 4 5 6 7 8]]\n"
     ]
    },
    {
     "data": {
      "text/plain": [
       "(1, 8)"
      ]
     },
     "execution_count": 20,
     "metadata": {},
     "output_type": "execute_result"
    }
   ],
   "source": [
    "arr_2 = arr.reshape(1,arr.shape[0])    \n",
    "print(arr_2)                         # reshaping\n",
    "arr_2.shape"
   ]
  },
  {
   "cell_type": "code",
   "execution_count": 21,
   "id": "804ee51a",
   "metadata": {},
   "outputs": [
    {
     "name": "stdout",
     "output_type": "stream",
     "text": [
      "[[1 2 3 4 5 6 7 8]]\n",
      "[[1 2 3 4 6 7 8]]\n"
     ]
    }
   ],
   "source": [
    "print(arr_2)\n",
    "arr_2 = np.delete(arr_2,4,axis=1)   # it deletes 4th index or 5th value\n",
    "print(arr_2)"
   ]
  },
  {
   "cell_type": "code",
   "execution_count": 22,
   "id": "0d763e47",
   "metadata": {},
   "outputs": [
    {
     "name": "stdout",
     "output_type": "stream",
     "text": [
      "[[4 5 6]]\n",
      " \n",
      "[[1 2 3]\n",
      " [7 8 6]]\n",
      " \n",
      "[[4 5 6]\n",
      " [1 2 3]\n",
      " [7 8 6]]\n"
     ]
    }
   ],
   "source": [
    "# combining arrays\n",
    "arr = np.array([[4,5,6]])\n",
    "arr_2 = np.array([[1,2,3],[7,8,6]])\n",
    "print(arr)\n",
    "print(\" \")\n",
    "print(arr_2)\n",
    "print(\" \")\n",
    "vec = np.concatenate((arr,arr_2),axis=0)\n",
    "print(vec)"
   ]
  },
  {
   "cell_type": "code",
   "execution_count": 23,
   "id": "4e1e9be5",
   "metadata": {},
   "outputs": [
    {
     "name": "stdout",
     "output_type": "stream",
     "text": [
      "[[1 2 3 6]]\n",
      " \n",
      "[[2 8 4 5]\n",
      " [1 4 8 4]]\n",
      " \n",
      "[[1 2 3 6]\n",
      " [2 8 4 5]\n",
      " [1 4 8 4]]\n"
     ]
    }
   ],
   "source": [
    "# combining arrays vertically\n",
    "vec = np.array([[1,2,3,6]])\n",
    "vec2 = np.array([[2,8,4,5],[1,4,8,4]])\n",
    "print(vec)\n",
    "print(\" \")\n",
    "print(vec2)\n",
    "print(\" \")\n",
    "vec3 = np.vstack((vec,vec2))\n",
    "print(vec3)"
   ]
  },
  {
   "cell_type": "code",
   "execution_count": 24,
   "id": "dabb8a16",
   "metadata": {},
   "outputs": [
    {
     "name": "stdout",
     "output_type": "stream",
     "text": [
      "[[4 1 4 3]\n",
      " [4 7 0 6]]\n",
      " \n",
      "[[6 9 5 1]\n",
      " [8 7 3 1]]\n",
      " \n",
      "[[4 1 4 3 6 9 5 1]\n",
      " [4 7 0 6 8 7 3 1]]\n"
     ]
    }
   ],
   "source": [
    "# combining arrays horizontally\n",
    "vect = np.array([[4,1,4,3],[4,7,0,6]])\n",
    "vect2 = np.array([[6,9,5,1],[8,7,3,1]])\n",
    "print(vect)\n",
    "print(\" \")\n",
    "print(vect2)\n",
    "print(\" \")\n",
    "vect3 = np.hstack((vect,vect2))\n",
    "print(vect3)"
   ]
  },
  {
   "cell_type": "code",
   "execution_count": 25,
   "id": "164d3718",
   "metadata": {},
   "outputs": [
    {
     "name": "stdout",
     "output_type": "stream",
     "text": [
      "[7 5 3 8 1 4 6 2]\n"
     ]
    }
   ],
   "source": [
    "# Flattens a 2d array to 1d\n",
    "\n",
    "A = np.array([[7,5,3,8],[1,4,6,2]])\n",
    "B = A.flatten()\n",
    "print(B)"
   ]
  },
  {
   "cell_type": "code",
   "execution_count": 26,
   "id": "bc243635",
   "metadata": {},
   "outputs": [
    {
     "name": "stdout",
     "output_type": "stream",
     "text": [
      "(2, 4)\n",
      "\n",
      "(4, 2)\n"
     ]
    }
   ],
   "source": [
    "# transpose of matrix\n",
    "\n",
    "vect = np.array([[1,5,8,3],[4,6,7,1]])\n",
    "print(vect.shape)\n",
    "print(\"\")\n",
    "vect = vect.T\n",
    "print(vect.shape)"
   ]
  },
  {
   "cell_type": "code",
   "execution_count": 27,
   "id": "5ae00e53",
   "metadata": {},
   "outputs": [
    {
     "name": "stdout",
     "output_type": "stream",
     "text": [
      "[[ 9.00719925e+15 -4.50359963e+15 -4.50359963e+15]\n",
      " [-1.80143985e+16  9.00719925e+15  9.00719925e+15]\n",
      " [ 9.00719925e+15 -4.50359963e+15 -4.50359963e+15]]\n"
     ]
    }
   ],
   "source": [
    "# inverse of matrix\n",
    "A = np.array([[4,5,6],[7,8,9],[1,2,3]])\n",
    "B = np.linalg.inv(A)\n",
    "print(B)"
   ]
  }
 ],
 "metadata": {
  "kernelspec": {
   "display_name": "Python 3 (ipykernel)",
   "language": "python",
   "name": "python3"
  },
  "language_info": {
   "codemirror_mode": {
    "name": "ipython",
    "version": 3
   },
   "file_extension": ".py",
   "mimetype": "text/x-python",
   "name": "python",
   "nbconvert_exporter": "python",
   "pygments_lexer": "ipython3",
   "version": "3.9.7"
  }
 },
 "nbformat": 4,
 "nbformat_minor": 5
}
