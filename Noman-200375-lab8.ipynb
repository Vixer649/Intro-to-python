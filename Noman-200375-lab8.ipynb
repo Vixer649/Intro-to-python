{
 "cells": [
  {
   "cell_type": "code",
   "execution_count": null,
   "id": "b48da9a9",
   "metadata": {},
   "outputs": [],
   "source": [
    "# task 2\n",
    "List=[5,20,15,20,25,50,20]\n",
    "print(\"Given List\")\n",
    "print(List)\n",
    "for x in List:\n",
    "    if x == 20:\n",
    "        List.remove(20)\n",
    "print(\"After removal\")\n",
    "print(List)\n"
   ]
  },
  {
   "cell_type": "code",
   "execution_count": null,
   "id": "20dc76af",
   "metadata": {},
   "outputs": [],
   "source": [
    "# task 3\n",
    "List = [5,20,15,20,25,50,20]\n",
    "print(\"Given List\")\n",
    "print(List)\n",
    "List[1] = 200\n",
    "print(\"After replacement\")\n",
    "print(List)"
   ]
  },
  {
   "cell_type": "code",
   "execution_count": null,
   "id": "16af434b",
   "metadata": {},
   "outputs": [],
   "source": [
    "# task 4\n",
    "tuple1=(1,2,3,4)\n",
    "print(\"Given tuple\")\n",
    "print(tuple1)\n",
    "ft=tuple1[0]\n",
    "check=True\n",
    "for x in tuple1:\n",
    "    if ft != x:\n",
    "        check=False\n",
    "        break\n",
    "if(check):\n",
    "    print(\"Elements are Equal\")\n",
    "else:\n",
    "    print(\"Elements are NOT equal\")"
   ]
  },
  {
   "cell_type": "code",
   "execution_count": null,
   "id": "d8f7a3bc",
   "metadata": {},
   "outputs": [],
   "source": [
    "# task 5\n",
    "for x in range(1,41):\n",
    "        if x%4 == 0 and x%5 != 0:\n",
    "            print(\"Muhammad\",end=\",\")\n",
    "        elif x%5 == 0 and x%10 == 0 and x%4 != 0:\n",
    "            print(\"Noman\")\n",
    "        elif x%5 == 0 and x%10 != 0 and x%4 != 0:\n",
    "            print(\"Noman\",end=\",\")\n",
    "        elif x%4 == 0 and x%5 == 0:\n",
    "            print(\"200375\")\n",
    "        else:\n",
    "            print(x,end=\",\")\n"
   ]
  },
  {
   "cell_type": "code",
   "execution_count": null,
   "id": "6ce4ca2d",
   "metadata": {},
   "outputs": [],
   "source": [
    "# task 1\n",
    "billing_amount = int(input(\"Enter billing amount(in dollars) : \"))\n",
    "\n",
    "payment = int(input(\"Enter payment amount(in dollars) : \"))\n",
    "\n",
    "if payment == billing_amount or payment > billing_amount:\n",
    "\n",
    "    credit = billing_amount * 0.01\n",
    "    if credit > 10:\n",
    "        credit = 10\n",
    "    balance = payment - billing_amount\n",
    "\n",
    "    print(\"Credit : $\",credit)\n",
    "    print(\"Remaining balance : $\",balance)\n",
    "    \n",
    "else:\n",
    "        balance = billing_amount - payment\n",
    "        if payment == billing_amount / 2:\n",
    "            penalty = balance * 0.05\n",
    "            print(\"Credit : $\"+str(0.00))\n",
    "            print(\"Penalty : $\",penalty)\n",
    "\n",
    "        elif payment < billing_amount / 2  or payment >= billing_amount / 5:\n",
    "            penalty = balance * 0.1\n",
    "            print(\"Credit : $\"+str(0.00))\n",
    "            print(\"Penalty : $\",penalty)\n",
    "        else:\n",
    "            penalty = balance * 0.2\n",
    "            print(\"Credit : $\"+str(0.00))\n",
    "            print(\"Penalty : $\",penalty)"
   ]
  }
 ],
 "metadata": {
  "kernelspec": {
   "display_name": "Python 3 (ipykernel)",
   "language": "python",
   "name": "python3"
  },
  "language_info": {
   "codemirror_mode": {
    "name": "ipython",
    "version": 3
   },
   "file_extension": ".py",
   "mimetype": "text/x-python",
   "name": "python",
   "nbconvert_exporter": "python",
   "pygments_lexer": "ipython3",
   "version": "3.9.7"
  }
 },
 "nbformat": 4,
 "nbformat_minor": 5
}
